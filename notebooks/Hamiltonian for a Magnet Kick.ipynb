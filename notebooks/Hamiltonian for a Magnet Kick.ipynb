{
 "cells": [
  {
   "cell_type": "markdown",
   "id": "35cdbdea",
   "metadata": {},
   "source": [
    "git@github.com:Mael-Le-Garrec/PhD.git# Hamiltonian for a Magnet Kick\n",
    "\n",
    "This is the Hamiltonian for a magnetic element with normal strength component _K_ and skew component _J_:\n",
    "$$\\mathcal{H} = \\Re \\left[\\sum_{n>1} \\left( K_{n-1} + iJ_{n-1} \\right) \\frac{(x+iy)^n}{n!} \\right]$$\n",
    "\n",
    "<div class=\"alert alert-block alert-warning\">\n",
    "<b>Remark</b>: When writing things like $K_1$ it is assumed it is $K_1(s)$. Is is important later for the chromaticity where the average is a circular integral over s.\n",
    "</div>\n",
    "\n",
    "## Derivation\n",
    "\n",
    "Starting from Eq. 2.28 of [Felix Carlier's Thesis]\n",
    "$$\\mathcal{H} = \\frac{1}{2}(p^2_x + p^2_y) - \\frac{A_s(x,y)}{B_0 \\rho}$$\n",
    "\n",
    "---\n",
    "And the expression of the magnetic field\n",
    "\n",
    "$$B_x = -\\frac{\\partial V}{\\partial x} = \\frac{\\partial A_s}{\\partial y}, \n",
    "  B_y = -\\frac{\\partial V}{\\partial y} = \\frac{\\partial A_s}{\\partial x}$$\n",
    "\n",
    "$$\\mathcal{A}(x + iy) = A_s(x,y) + iV(x,y)$$\n",
    "\n",
    "We can then express $\\mathcal{A}(x+iy)$ with:\n",
    "$$-\\frac{\\partial}{\\partial x} \\mathcal{A}(x + iy) = \\sum^\\infty_{n=2}\\left[K_{n}(s) + iJ_{n}(s)\\right](x+iy)^{n}$$\n",
    "\n",
    "Where $K_{n}$ and $J_{n}$ are defined as:\n",
    "\n",
    "$$K_{n}(s) = \\frac{1}{B_0 \\rho} \\frac{\\partial^{n}B_y}{\\partial x^{n}},\n",
    "  J_{n}(s) = \\frac{1}{B_0 \\rho} \\frac{\\partial^{n}B_x}{\\partial x^{n}}$$\n",
    "\n",
    "\n",
    "[Felix Carlier's Thesis]: https://cds.cern.ch/record/2715765\n",
    "[Ewen's Thesis]: https://cds.cern.ch/record/1951379/files/Thesis-2014-Ewen\n",
    "[Second Order Dispersion measurement in LHC]: https://cds.cern.ch/record/2696124/files/mopmp027.pdf\n",
    "[Particle Accelerators Physics II]: https://link.springer.com/book/10.1007/978-3-642-97550-9\n",
    "\n",
    "---\n",
    "\n",
    "By taking the primitive of $\\sum^\\infty_{n=2}\\left[K_{n}(s) + iJ_{n}(s)\\right](x+iy)^{n}$ and then the real part, we can get $A_s(x,y) / B_0\\rho$\n",
    "\n",
    "---\n",
    "\n",
    "As we assume the elements are thin, we can omit the $\\frac{1}{2}(p^2_x + p^2_y)$ part in the Hamiltonian.\n",
    "\n",
    "---\n",
    "\n",
    "# Chromaticity\n",
    "\n",
    "The chromaticity is given by Eq.(5.5) of [Ewen's Thesis]:\n",
    "\n",
    "$$Q'_{x,y} = \\frac{\\partial Q_{x,y}}{\\partial \\delta} = \\frac{1}{2\\pi}\\left< \\frac{\\partial²\\mathcal{H}}{\\partial J_{x,y}\\partial \\delta}\\right>$$\n",
    "\n",
    "For a single element, we can compute $ΔQ'$:\n",
    " $$\\Delta Q_{x,y}' = \\frac{1}{2\\pi} \\int_L \\frac{\\partial \\left< H \\right>}{\\partial J_{x,y} \\partial \\delta} ds$$\n",
    "\n",
    "Reminder:\n",
    "\n",
    "$$\\xi = \\frac{\\Delta Q / Q}{\\Delta p/p}$$\n",
    "\n",
    "\n",
    "# Dispersion\n",
    "\n",
    "The orbit change $Δx$ can be expressed with different orders of the dispersion, inducing higher order relative momentum offsets.  \n",
    "Found in J.Keintzel's [Second Order Dispersion measurement in LHC] paper and [Particle Accelerators Physics II] (Eq 4.78) by H.Wiedemann.\n",
    "\n",
    "* First order:\n",
    "    $$Δ_{z} = \\eta_{z,1} \\delta p \\Longleftrightarrow \\eta_{z} = \\eta_{z,0} + \\eta_{z,1} \\delta p $$\n",
    "* Second order:\n",
    "    $$Δ_{z} = \\eta_{z,1} \\delta p + \\eta_{z,2} \\delta p^2 \\Longleftrightarrow \\eta_{z} = \\eta_{z,0} + \\eta_{z,1} \\delta p + \\eta_{z,2} \\delta p^2 $$\n",
    "* Third order:\n",
    "    $$Δ_{z} = \\eta_{z,1} \\delta p + \\eta_{z,2} \\delta p^2 + \\eta_{z,3} \\delta p^3 \\Longleftrightarrow \\eta_{z} = \\eta_{z,0} + \\eta_{z,1} \\delta p + \\eta_{z,2} \\delta p^2 + \\eta_{z,3} \\delta p^3$$\n",
    "    \n",
    "With $z$ the coordinate being either $x$ or $y$ and $\\eta_{1,2,3}$ refering to the first, second and third order dispersion respectively."
   ]
  },
  {
   "cell_type": "code",
   "execution_count": 1,
   "id": "ee5e9b0f",
   "metadata": {},
   "outputs": [],
   "source": [
    "from IPython.display import display, Latex, Math, Markdown, HTML\n",
    "from sympy import re, Sum, I, factorial, Indexed, simplify, expand_complex, symbols, Function, diff, cos, sqrt, pi, integrate, collect, apart, factor\n",
    "from sympy import init_printing, latex\n",
    "init_printing(use_latex=True)"
   ]
  },
  {
   "cell_type": "code",
   "execution_count": 16,
   "id": "33dfb81d",
   "metadata": {},
   "outputs": [
    {
     "data": {
      "text/markdown": [
       "## Hamiltonians"
      ],
      "text/plain": [
       "<IPython.core.display.Markdown object>"
      ]
     },
     "metadata": {},
     "output_type": "display_data"
    },
    {
     "data": {
      "text/markdown": [
       "The Hamiltonians below include the normal and skew components.  It is assumed here than the elements are thin."
      ],
      "text/plain": [
       "<IPython.core.display.Markdown object>"
      ]
     },
     "metadata": {},
     "output_type": "display_data"
    },
    {
     "data": {
      "text/markdown": [
       "Elements should only have a main field, thus the lower K values can be ignored."
      ],
      "text/plain": [
       "<IPython.core.display.Markdown object>"
      ]
     },
     "metadata": {},
     "output_type": "display_data"
    },
    {
     "data": {
      "text/markdown": [
       "$$\\;\\;\\;\\;\\;\\;\\;\\;Q' = \\sum_{magnets} \\Delta Q'$$"
      ],
      "text/plain": [
       "<IPython.core.display.Markdown object>"
      ]
     },
     "metadata": {},
     "output_type": "display_data"
    },
    {
     "data": {
      "text/markdown": [
       "### Sextupole"
      ],
      "text/plain": [
       "<IPython.core.display.Markdown object>"
      ]
     },
     "metadata": {},
     "output_type": "display_data"
    },
    {
     "data": {
      "text/latex": [
       "$\\displaystyle \\Delta x = \\delta_{p} \\eta_{x 1}$"
      ],
      "text/plain": [
       "<IPython.core.display.Math object>"
      ]
     },
     "metadata": {},
     "output_type": "display_data"
    },
    {
     "data": {
      "text/markdown": [
       "#### Hamiltonian"
      ],
      "text/plain": [
       "<IPython.core.display.Markdown object>"
      ]
     },
     "metadata": {},
     "output_type": "display_data"
    },
    {
     "data": {
      "text/markdown": [
       "* Raw Expression:"
      ],
      "text/plain": [
       "<IPython.core.display.Markdown object>"
      ]
     },
     "metadata": {},
     "output_type": "display_data"
    },
    {
     "data": {
      "text/latex": [
       "$\\displaystyle \\;\\;\\;\\;\\;\\;\\;\\;\\mathcal{H^3}(x, y) =- J_{2} x y - \\frac{J_{3} y \\left(3 x^{2} - y^{2}\\right)}{6} + \\frac{K_{2} \\left(x^{2} - y^{2}\\right)}{2} + \\frac{K_{3} x \\left(x^{2} - 3 y^{2}\\right)}{6}$"
      ],
      "text/plain": [
       "<IPython.core.display.Math object>"
      ]
     },
     "metadata": {},
     "output_type": "display_data"
    },
    {
     "data": {
      "text/markdown": [
       "* By keeping only the main _normal_ field:"
      ],
      "text/plain": [
       "<IPython.core.display.Markdown object>"
      ]
     },
     "metadata": {},
     "output_type": "display_data"
    },
    {
     "data": {
      "text/latex": [
       "$\\displaystyle \\;\\;\\;\\;\\;\\;\\;\\;\\mathcal{N^3}(x, y) =\\frac{K_{3} x \\left(x^{2} - 3 y^{2}\\right)}{6}$"
      ],
      "text/plain": [
       "<IPython.core.display.Math object>"
      ]
     },
     "metadata": {},
     "output_type": "display_data"
    },
    {
     "data": {
      "text/markdown": [
       "* With a displacement in _x_:"
      ],
      "text/plain": [
       "<IPython.core.display.Markdown object>"
      ]
     },
     "metadata": {},
     "output_type": "display_data"
    },
    {
     "data": {
      "text/latex": [
       "$\\displaystyle \\;\\;\\;\\;\\;\\;\\;\\;\\mathcal{N^3}(x + Δx, y) =K_{3} \\left(- \\frac{y^{2} \\left(\\delta_{p} \\eta_{x 1} + x\\right)}{2} + \\frac{\\left(\\delta_{p} \\eta_{x 1} + x\\right)^{3}}{6}\\right)$"
      ],
      "text/plain": [
       "<IPython.core.display.Math object>"
      ]
     },
     "metadata": {},
     "output_type": "display_data"
    },
    {
     "data": {
      "text/markdown": [
       "* Coordinate variables substitued for $x = \\sqrt{2} \\sqrt{J_{x} \\beta_{x}} \\cos{\\left(\\phi_{x} \\right)}$ and $y = \\sqrt{2} \\sqrt{J_{y} \\beta_{y}} \\cos{\\left(\\phi_{y} \\right)}$:"
      ],
      "text/plain": [
       "<IPython.core.display.Markdown object>"
      ]
     },
     "metadata": {},
     "output_type": "display_data"
    },
    {
     "data": {
      "text/latex": [
       "$\\displaystyle \\;\\;\\;\\;\\;\\;\\;\\;\\mathcal{N^3}(x + Δx, y) =K_{3} \\left(- J_{y} \\beta_{y} \\left(\\delta_{p} \\eta_{x 1} + \\sqrt{2} \\sqrt{J_{x} \\beta_{x}} \\cos{\\left(\\phi_{x} \\right)}\\right) \\cos^{2}{\\left(\\phi_{y} \\right)} + \\frac{\\left(\\delta_{p} \\eta_{x 1} + \\sqrt{2} \\sqrt{J_{x} \\beta_{x}} \\cos{\\left(\\phi_{x} \\right)}\\right)^{3}}{6}\\right)$"
      ],
      "text/plain": [
       "<IPython.core.display.Math object>"
      ]
     },
     "metadata": {},
     "output_type": "display_data"
    },
    {
     "data": {
      "text/markdown": [
       "#### Chroma $Q^{(1)}$"
      ],
      "text/plain": [
       "<IPython.core.display.Markdown object>"
      ]
     },
     "metadata": {},
     "output_type": "display_data"
    },
    {
     "data": {
      "text/markdown": [
       "* Compute $ \\Delta Q^{(1)}$ for the plane x:"
      ],
      "text/plain": [
       "<IPython.core.display.Markdown object>"
      ]
     },
     "metadata": {},
     "output_type": "display_data"
    },
    {
     "data": {
      "text/latex": [
       "$\\displaystyle \\;\\;\\;\\;\\;\\;\\;\\;\\Delta Q^{(1)}_x = \\frac{1}{2\\pi} \\left< \\frac{\\partial^2 H}{\\partial J_x\\partial\\delta} \\right> = \\int_L ds \\frac{1}{2\\pi} \\left< \\frac{K_{3} \\eta_{x 1} \\left(2 J_{x} \\beta_{x} \\cos{\\left(\\phi_{x} \\right)} + \\sqrt{2} \\delta_{p} \\eta_{x 1} \\sqrt{J_{x} \\beta_{x}}\\right) \\cos{\\left(\\phi_{x} \\right)}}{2 J_{x}}\\right> = \\int_L ds \\frac{K_{3} \\beta_{x} \\eta_{x 1}}{4 \\pi} = \\frac{K_{3} L \\beta_{x} \\eta_{x 1}}{4 \\pi}$"
      ],
      "text/plain": [
       "<IPython.core.display.Math object>"
      ]
     },
     "metadata": {},
     "output_type": "display_data"
    },
    {
     "data": {
      "text/markdown": [
       "* Compute $ \\Delta Q^{(1)}$ for the plane y:"
      ],
      "text/plain": [
       "<IPython.core.display.Markdown object>"
      ]
     },
     "metadata": {},
     "output_type": "display_data"
    },
    {
     "data": {
      "text/latex": [
       "$\\displaystyle \\;\\;\\;\\;\\;\\;\\;\\;\\Delta Q^{(1)}_y = \\frac{1}{2\\pi} \\left< \\frac{\\partial^2 H}{\\partial J_y\\partial\\delta} \\right> = \\int_L ds \\frac{1}{2\\pi} \\left< - K_{3} \\beta_{y} \\eta_{x 1} \\cos^{2}{\\left(\\phi_{y} \\right)}\\right> = \\int_L ds - \\frac{K_{3} \\beta_{y} \\eta_{x 1}}{4 \\pi} = - \\frac{K_{3} L \\beta_{y} \\eta_{x 1}}{4 \\pi}$"
      ],
      "text/plain": [
       "<IPython.core.display.Math object>"
      ]
     },
     "metadata": {},
     "output_type": "display_data"
    },
    {
     "data": {
      "text/markdown": [
       "#### Chroma $Q^{(2)}$"
      ],
      "text/plain": [
       "<IPython.core.display.Markdown object>"
      ]
     },
     "metadata": {},
     "output_type": "display_data"
    },
    {
     "data": {
      "text/markdown": [
       "* Compute $ \\Delta Q^{(2)}$ for the plane x:"
      ],
      "text/plain": [
       "<IPython.core.display.Markdown object>"
      ]
     },
     "metadata": {},
     "output_type": "display_data"
    },
    {
     "data": {
      "text/latex": [
       "$\\displaystyle \\;\\;\\;\\;\\;\\;\\;\\;\\Delta Q^{(2)}_x = \\frac{1}{2\\pi} \\left< \\frac{\\partial^3 H}{\\partial J_x\\partial^2\\delta} \\right> = \\int_L ds \\frac{1}{2\\pi} \\left< \\frac{\\sqrt{2} K_{3} \\eta_{x 1}^{2} \\sqrt{J_{x} \\beta_{x}} \\cos{\\left(\\phi_{x} \\right)}}{2 J_{x}}\\right> = \\int_L ds 0 = 0$"
      ],
      "text/plain": [
       "<IPython.core.display.Math object>"
      ]
     },
     "metadata": {},
     "output_type": "display_data"
    },
    {
     "data": {
      "text/markdown": [
       "* Compute $ \\Delta Q^{(2)}$ for the plane y:"
      ],
      "text/plain": [
       "<IPython.core.display.Markdown object>"
      ]
     },
     "metadata": {},
     "output_type": "display_data"
    },
    {
     "data": {
      "text/latex": [
       "$\\displaystyle \\;\\;\\;\\;\\;\\;\\;\\;\\Delta Q^{(2)}_y = \\frac{1}{2\\pi} \\left< \\frac{\\partial^3 H}{\\partial J_y\\partial^2\\delta} \\right> = \\int_L ds \\frac{1}{2\\pi} \\left< 0\\right> = \\int_L ds 0 = 0$"
      ],
      "text/plain": [
       "<IPython.core.display.Math object>"
      ]
     },
     "metadata": {},
     "output_type": "display_data"
    },
    {
     "data": {
      "text/html": [
       "<br><br><br>"
      ],
      "text/plain": [
       "<IPython.core.display.HTML object>"
      ]
     },
     "metadata": {},
     "output_type": "display_data"
    }
   ],
   "source": [
    "max_order = 10  # Maximum multipole order, used to create the symbols\n",
    "space = '\\;' * 8  # for spacing latex\n",
    "\n",
    "def pm(s):\n",
    "    display(Markdown(s))\n",
    "    \n",
    "    \n",
    "def taylor(f, order, x):\n",
    "    ''' Taylor expansion of `order`, of function f for the variable x, at the point 0'''\n",
    "    base = f.subs(x, 0)\n",
    "    for i in range(1, order+1):\n",
    "        tmp = diff(f, x, i).subs(x, 0)\n",
    "        tmp /= factorial(i)\n",
    "        tmp *= x ** i\n",
    "        base += tmp\n",
    "    return base\n",
    "\n",
    "\n",
    "def chromaticity(chroma_order, hamiltonian, z, J, K, beta, phix, phiy, dpp):\n",
    "    L = symbols('L')  # length of the magnet\n",
    "    \n",
    "    # Differentiate the hamiltonian to get the chroma\n",
    "    q_prime = diff(hamiltonian, J)\n",
    "    q_prime = diff(q_prime, dpp, chroma_order)\n",
    "    \n",
    "    # Define the str sequences so it's prettier to print\n",
    "    start_str = \" \" if chroma_order == 0 else ''\n",
    "    expo_h = f'{chroma_order + 1}' # exponent for the \\partial H\n",
    "    expo_dpp = f'^{chroma_order}' if chroma_order > 1 else '' # exponent for the \\partial \\delta p\n",
    "    chroma_prime = f'^{{({chroma_order})}}' if chroma_order > 0 else ''\n",
    "    dpp_str = r\"\\partial\" + expo_dpp + r\"\\delta\" if chroma_order > 0 else ''\n",
    "    \n",
    "    # Display the title of the derivation\n",
    "    display(Markdown(r\"* Compute $\" + \" \\Delta Q\" + chroma_prime + \"$ for the plane \" + latex(z) + \":\"))\n",
    "    q_prime_str = latex(q_prime.simplify())\n",
    "    \n",
    "    # Integrate over the phase variables phix and phiy to get the mean of the cosines\n",
    "    average_q_prime = (1/(2*pi)) * integrate(integrate(q_prime, (phix, 0, pi))/pi, (phiy, 0, pi))/pi\n",
    "    average_q_prime_str = latex(average_q_prime.simplify())\n",
    "    \n",
    "    # Multiply directly by L, like if we integrated over ds\n",
    "    result_q_prime = average_q_prime * L\n",
    "    result_q_prime_str = latex(result_q_prime.simplify())\n",
    "    \n",
    "    # if we still have a δ in there, it means it's a higher order chromaticity\n",
    "    end_str = \"\"\n",
    "    if dpp in result_q_prime.free_symbols:\n",
    "        end_str = r\" \\Longrightarrow Q\" + chroma_prime + \"_\" + latex(z) + \" = 0\"\n",
    "        \n",
    "    display(Math(space + start_str + r\"\\Delta Q\" + chroma_prime + r\"_\" + latex(z) + r\" = \\frac{1}{2\\pi} \\left< \\frac{\\partial^\" + expo_h + r\" H}{\\partial J_\" + latex(z) + dpp_str + r\"} \\right> = \\int_L ds \\frac{1}{2\\pi} \\left< \" + q_prime_str + r\"\\right> = \\int_L ds \" + average_q_prime_str + \" = \" + result_q_prime_str + end_str))\n",
    "\n",
    "    \n",
    "def get_dispersion(plane, dpp, order):\n",
    "    \"\"\"\n",
    "    Returns the dispersion equation depending on the order\n",
    "    \n",
    "    Args:\n",
    "      - plane: 'x' or 'y'\n",
    "      - dpp: dpp symbol\n",
    "      - order: int >= 0\n",
    "    \"\"\"\n",
    "    res = 0\n",
    "    for exp in range(1, order+1):\n",
    "        eta = symbols(f'eta_{plane}_{exp}')\n",
    "        res += eta * dpp ** exp\n",
    "    return res\n",
    "        \n",
    "\n",
    "def hamiltonian(order, K, J, x, y, chroma, taylor_exp=False, disp_order=1):\n",
    "    # Define our symbols for Δx\n",
    "    eta_x1, eta_x2, eta_x3 = symbols('eta_x_\\,_1 eta_x_\\,_2 eta_x_\\,_3')\n",
    "    dpp = symbols('delta_p')\n",
    "    P, P0 = symbols('P P_0')\n",
    "    q = symbols('q')\n",
    "    \n",
    "    # Here Δx = ηₓ₁.δₚ\n",
    "    dx = get_dispersion('x', dpp, disp_order)\n",
    "    display(Math(\"\\Delta x = \" + latex(dx)))\n",
    "    #dx = eta_x1 * dpp + eta_x2 * dpp**2\n",
    "    \n",
    "    # Compute the full hamiltonian\n",
    "    res = 0\n",
    "    for n in range(2, order+1):\n",
    "        s = (K[n] + I * J[n]) * (((x + I * y) ** n)/factorial(n))\n",
    "        res += s\n",
    "    # And keep the real part only\n",
    "    res = re(res)\n",
    "    \n",
    "    # Keep only the main field\n",
    "    main = res\n",
    "    for n in range(2, order+1):\n",
    "        main = main.subs(J[n], 0)\n",
    "        main = main.subs(K[n-1], 0)\n",
    "        \n",
    "    # Substitute K for q / P (n-1)! B_n with P = P_0(1 + δ)\n",
    "    # Replace (1 + δ)**-1 by a taylor expansion\n",
    "    if taylor_exp:\n",
    "        inv_dpp = (1 + dpp) ** -1\n",
    "        dpp_exp = taylor(inv_dpp, 1, dpp)\n",
    "        display(Markdown('Performing a Taylor Expansion for $' + latex(1/(1+dpp)) + '$: $' + latex(dpp_exp) + '$'))\n",
    "        main = main.subs(K[n], q / P0 * (dpp_exp) * factorial(n-1) * B[n])\n",
    "    \n",
    "    # Print both equations\n",
    "    display(Markdown('#### Hamiltonian'))\n",
    "    main_str = f'\\mathcal{{N^{order}}}(x, y) =' + latex(main.simplify())    \n",
    "    str_res = f'\\mathcal{{H^{order}}}(x, y) =' + latex(res.simplify())\n",
    "    display(Markdown('* Raw Expression:'), Math(space + str_res))\n",
    "    display(Markdown('* By keeping only the main _normal_ field:'), Math(space + main_str))\n",
    "    \n",
    "    # Perform a variabla change for x, to account for Δx\n",
    "    expanded = main.subs(x, x + dx)\n",
    "    expanded_str = f'\\mathcal{{N^{order}}}(x + Δx, y) =' + latex(expanded)\n",
    "    display(Markdown('* With a displacement in _x_:'), Math(space + expanded_str))\n",
    "    \n",
    "    # Perform a variable change: x = √(2Jₓβₓ)cosφₓ ; y = √(2Jᵧβᵧ)cosφᵧ\n",
    "    Jx, Jy = symbols('J_x J_y', real=True)\n",
    "    phix, phiy = symbols('phi_x phi_y', real=True)\n",
    "    betx, bety = symbols('beta_x beta_y', real=True)\n",
    "    new_x = (sqrt(2 * Jx * betx) * cos(phix)).expand()\n",
    "    new_y = sqrt(2 * Jy * bety) * cos(phiy)\n",
    "    new_vars = expanded.subs(x, new_x).subs(y, new_y)\n",
    "    new_str = f'\\mathcal{{N^{order}}}(x + Δx, y) =' + latex(new_vars)\n",
    "    display(Markdown(f'* Coordinate variables substitued for $x = {latex(new_x)}$ and $y = {latex(new_y)}$:'), \n",
    "            Math(space + new_str))\n",
    "    \n",
    "    # Differentiate relative to the action to get the detuning\n",
    "    #display(Markdown(\"#### Detuning ΔQ\"))\n",
    "    #chromaticity(0, new_vars, x, Jx, K, betx, phix, phiy, dpp)\n",
    "    #chromaticity(0, new_vars, y, Jy, K, bety, phix, phiy, dpp)\n",
    "    \n",
    "    # Differentiate relative to the momentum and the action to get the chromaticity\n",
    "    # Display every order that have been requested\n",
    "    for o in chroma:\n",
    "        display(Markdown(f\"#### Chroma $Q^{{({o})}}$\"))\n",
    "        chromaticity(o, new_vars, x, Jx, K, betx, phix, phiy, dpp)\n",
    "        chromaticity(o, new_vars, y, Jy, K, bety, phix, phiy, dpp)\n",
    "    \n",
    "    display(HTML(\"<br>\" * 3))\n",
    "\n",
    "    return res, main, new_vars\n",
    "\n",
    "    \n",
    "# Create and array of K and J values\n",
    "# Those are the strengths of the regular and skew magnets\n",
    "K, J, B = [], [], []\n",
    "x, y = symbols('x y', real=True)\n",
    "\n",
    "for i in range(max_order):\n",
    "    K.append(symbols(f'K{i}', real=True))\n",
    "    J.append(symbols(f'J{i}', real=True))\n",
    "    B.append(symbols(f'B{i}', real=True))\n",
    "\n",
    "    \n",
    "pm(\"## Hamiltonians\")\n",
    "pm(\"The Hamiltonians below include the normal and skew components.  \\\n",
    "It is assumed here than the elements are thin.\")\n",
    "pm(\"Elements should only have a main field, thus the lower K values can be ignored.\")\n",
    "pm(\"$$\" + space + r\"Q' = \\sum_{magnets} \\Delta Q'$$\")\n",
    "\n",
    "#pm(\"### Quadropole\")\n",
    "#quadrupole, main_quad, action_vars_quad = hamiltonian(2, K, J, x, y, chroma=[1], taylor_exp=True)\n",
    "\n",
    "pm(\"### Sextupole\")\n",
    "sextupole, main_sext, action_vars_sext = hamiltonian(3, K, J, x, y, chroma=[1, 2], disp_order=1)\n",
    "    \n",
    "#pm(\"### Octupole\")\n",
    "#octupole, main_oct, action_vars_oct = hamiltonian(4, K, J, x, y, chroma=[4])\n",
    "\n",
    "#pm(\"### Decapole\")\n",
    "#decapole, main_deca, action_vars_deca = hamiltonian(5, K, J, x, y, chroma=[3]) \n",
    "\n",
    "#pm(\"### Dodecapole\")\n",
    "#dodeca, main_dodeca, action_vars_dodeca = hamiltonian(6, K, J, x, y, chroma=[4])\n",
    "\n",
    "#pm(\"### Tetradecapole\")\n",
    "#tetradeca, main_tetradeca, action_vars_tetradeca = hamiltonian(7, K, J, x, y, chroma=[5])"
   ]
  },
  {
   "cell_type": "code",
   "execution_count": 3,
   "id": "2a379ad5-1e41-4ed8-8e12-f241689a66af",
   "metadata": {},
   "outputs": [
    {
     "data": {
      "image/png": "[encoded data removed]",
      "text/latex": [
       "$\\displaystyle 3.69914270041548 \\cdot 10^{-5}$"
      ],
      "text/plain": [
       "3.6991427004154785e-05"
      ]
     },
     "execution_count": 3,
     "metadata": {},
     "output_type": "execute_result"
    }
   ],
   "source": [
    "k6 = 1000000\n",
    "L = 0.615\n",
    "b_x = 102.4393606\n",
    "dx = 0.001648132608\n",
    "\n",
    "(k6  * L * b_x * dx**4) / (4 * 3.14159)"
   ]
  },
  {
   "cell_type": "code",
   "execution_count": null,
   "id": "c9694abb-73f5-49e5-98fe-7797e535a117",
   "metadata": {},
   "outputs": [],
   "source": []
  }
 ],
 "metadata": {
  "kernelspec": {
   "display_name": "Full_Jupyter_Venv",
   "language": "python",
   "name": "full_jupyter_venv"
  },
  "language_info": {
   "codemirror_mode": {
    "name": "ipython",
    "version": 3
   },
   "file_extension": ".py",
   "mimetype": "text/x-python",
   "name": "python",
   "nbconvert_exporter": "python",
   "pygments_lexer": "ipython3",
   "version": "3.10.9"
  }
 },
 "nbformat": 4,
 "nbformat_minor": 5
}
